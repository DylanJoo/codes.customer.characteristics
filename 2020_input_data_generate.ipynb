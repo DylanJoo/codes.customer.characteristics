{
 "cells": [
  {
   "cell_type": "code",
   "execution_count": 1,
   "metadata": {},
   "outputs": [],
   "source": [
    "import pandas as pd\n",
    "import numpy as np\n",
    "import seaborn as sns"
   ]
  },
  {
   "cell_type": "code",
   "execution_count": 2,
   "metadata": {},
   "outputs": [],
   "source": [
    "attrs = [\"amount\", \"freq\", \"avg_interval\"]"
   ]
  },
  {
   "cell_type": "code",
   "execution_count": 3,
   "metadata": {},
   "outputs": [],
   "source": [
    "raw_data = pd.read_csv(\"2022AIGO_H_LAB測試資料_雲端行動科技.csv\")\n",
    "raw_data.dropna(axis=0, subset=[\"item_tag\"], inplace=True)"
   ]
  },
  {
   "cell_type": "code",
   "execution_count": 43,
   "metadata": {},
   "outputs": [],
   "source": [
    "cat = raw_data[\"item_tag\"].unique()\n",
    "#pd.DataFrame(cat).to_csv(r'類別.csv',encoding='utf-8-sig')"
   ]
  },
  {
   "cell_type": "code",
   "execution_count": 36,
   "metadata": {},
   "outputs": [
    {
     "data": {
      "text/plain": [
       "844"
      ]
     },
     "execution_count": 36,
     "metadata": {},
     "output_type": "execute_result"
    }
   ],
   "source": [
    "np.size(cat)"
   ]
  },
  {
   "cell_type": "code",
   "execution_count": 5,
   "metadata": {},
   "outputs": [
    {
     "name": "stderr",
     "output_type": "stream",
     "text": [
      "C:\\Users\\Sylvia\\anaconda3\\lib\\site-packages\\pandas\\core\\indexing.py:1745: SettingWithCopyWarning: \n",
      "A value is trying to be set on a copy of a slice from a DataFrame.\n",
      "Try using .loc[row_indexer,col_indexer] = value instead\n",
      "\n",
      "See the caveats in the documentation: https://pandas.pydata.org/pandas-docs/stable/user_guide/indexing.html#returning-a-view-versus-a-copy\n",
      "  isetter(ilocs[0], value)\n",
      "<ipython-input-5-bb98c96d1407>:3: SettingWithCopyWarning: \n",
      "A value is trying to be set on a copy of a slice from a DataFrame.\n",
      "Try using .loc[row_indexer,col_indexer] = value instead\n",
      "\n",
      "See the caveats in the documentation: https://pandas.pydata.org/pandas-docs/stable/user_guide/indexing.html#returning-a-view-versus-a-copy\n",
      "  data_2020[\"month\"] = data_2020[\"datetime\"].dt.month\n"
     ]
    }
   ],
   "source": [
    "data_2020 = raw_data[raw_data[\"datetime\"].str.startswith(\"2020\")]\n",
    "data_2020.loc[:, \"datetime\"] = pd.to_datetime(data_2020[\"datetime\"], format=\"%Y-%m-%d\")\n",
    "data_2020[\"month\"] = data_2020[\"datetime\"].dt.month"
   ]
  },
  {
   "cell_type": "code",
   "execution_count": 6,
   "metadata": {},
   "outputs": [],
   "source": [
    "all_user = (data_2020.user_id.unique())"
   ]
  },
  {
   "cell_type": "code",
   "execution_count": 7,
   "metadata": {},
   "outputs": [],
   "source": [
    "# df_2020 = data_2020[data_2020[\"item_tag\"] != \"優惠活動/折扣/集點\"]\n",
    "df_2020 = data_2020[data_2020[\"item_tag\"] != \"無法分類\"]\n",
    "df_2020 = df_2020[df_2020[\"item_tag\"] != \"餐飲需求\"]"
   ]
  },
  {
   "cell_type": "code",
   "execution_count": 13,
   "metadata": {},
   "outputs": [],
   "source": [
    "df_agg = df_2020.groupby([\"month\", \"user_id\", \"item_tag\"])[[\"amount\", \"datetime\", \"inv_num\"]].agg(\n",
    "    amount = (\"amount\", \"sum\"),\n",
    "    freq = (\"inv_num\", lambda x : len(x.unique())),\n",
    "    avg_interval = (\"datetime\", lambda x : x.sort_values().diff().sum().days / len(x))\n",
    ")"
   ]
  },
  {
   "cell_type": "code",
   "execution_count": 14,
   "metadata": {},
   "outputs": [],
   "source": [
    "df_group_alltime = df_2020.groupby([\"user_id\", \"item_tag\"])[[\"amount\", \"datetime\", \"inv_num\"]].agg(\n",
    "    amount = (\"amount\", \"sum\"),\n",
    "    freq = (\"inv_num\", lambda x : len(x.unique())),\n",
    "    avg_interval = (\"datetime\", lambda x : x.sort_values().diff().sum().days / len(x))\n",
    ")"
   ]
  },
  {
   "cell_type": "code",
   "execution_count": 15,
   "metadata": {},
   "outputs": [
    {
     "data": {
      "text/html": [
       "<div>\n",
       "<style scoped>\n",
       "    .dataframe tbody tr th:only-of-type {\n",
       "        vertical-align: middle;\n",
       "    }\n",
       "\n",
       "    .dataframe tbody tr th {\n",
       "        vertical-align: top;\n",
       "    }\n",
       "\n",
       "    .dataframe thead th {\n",
       "        text-align: right;\n",
       "    }\n",
       "</style>\n",
       "<table border=\"1\" class=\"dataframe\">\n",
       "  <thead>\n",
       "    <tr style=\"text-align: right;\">\n",
       "      <th></th>\n",
       "    </tr>\n",
       "  </thead>\n",
       "  <tbody>\n",
       "  </tbody>\n",
       "</table>\n",
       "</div>"
      ],
      "text/plain": [
       "Empty DataFrame\n",
       "Columns: []\n",
       "Index: []"
      ]
     },
     "execution_count": 15,
     "metadata": {},
     "output_type": "execute_result"
    }
   ],
   "source": [
    "\n",
    "midx = pd.MultiIndex.from_product([range(1, 13), all_user])\n",
    "df_output = pd.DataFrame(index = midx, columns=[f'{i}_{j}'  for i in df_2020.item_tag.unique() for j in attrs])\n",
    "def make_output_matrix(x):\n",
    "    (m, id) = (x.index.get_level_values(\"month\")[0], x.index.get_level_values(\"user_id\")[0])\n",
    "    x = x.droplevel((0, 1))\n",
    "    df_temp = x.stack()\n",
    "    df_temp.index = [f\"{x}_{y}\" for x,y in df_temp.index]\n",
    "    df_temp = df_temp.to_frame(\"\").T\n",
    "    df_output.loc[(m, id), df_temp.columns] = df_temp.values\n",
    "\n",
    "df_agg.groupby(level = (0, 1)).apply(make_output_matrix)"
   ]
  },
  {
   "cell_type": "code",
   "execution_count": 16,
   "metadata": {},
   "outputs": [],
   "source": [
    "df_output.loc[:, df_output.columns.str.endswith(\"avg_interval\")] = df_output.loc[:, df_output.columns.str.endswith(\"avg_interval\")].replace([0, np.nan],1000)"
   ]
  },
  {
   "cell_type": "code",
   "execution_count": 17,
   "metadata": {},
   "outputs": [],
   "source": [
    "df_output.fillna(0, inplace=True)\n",
    "df_output = df_output.abs()"
   ]
  },
  {
   "cell_type": "code",
   "execution_count": 18,
   "metadata": {},
   "outputs": [],
   "source": [
    "df_output.to_csv(\"input_matrix_2020.csv\")"
   ]
  },
  {
   "cell_type": "markdown",
   "metadata": {},
   "source": [
    "# No group by month data"
   ]
  },
  {
   "cell_type": "code",
   "execution_count": 19,
   "metadata": {},
   "outputs": [],
   "source": [
    "df_group_alltime = df_2020.groupby([\"user_id\", \"item_tag\"])[[\"amount\", \"datetime\", \"inv_num\"]].agg(\n",
    "    amount = (\"amount\", \"sum\"),\n",
    "    freq = (\"inv_num\", lambda x : len(x.unique())),\n",
    "    avg_interval = (\"datetime\", lambda x : x.sort_values().diff().sum().days / len(x))\n",
    ")"
   ]
  },
  {
   "cell_type": "code",
   "execution_count": 25,
   "metadata": {},
   "outputs": [
    {
     "data": {
      "text/html": [
       "<div>\n",
       "<style scoped>\n",
       "    .dataframe tbody tr th:only-of-type {\n",
       "        vertical-align: middle;\n",
       "    }\n",
       "\n",
       "    .dataframe tbody tr th {\n",
       "        vertical-align: top;\n",
       "    }\n",
       "\n",
       "    .dataframe thead th {\n",
       "        text-align: right;\n",
       "    }\n",
       "</style>\n",
       "<table border=\"1\" class=\"dataframe\">\n",
       "  <thead>\n",
       "    <tr style=\"text-align: right;\">\n",
       "      <th></th>\n",
       "    </tr>\n",
       "  </thead>\n",
       "  <tbody>\n",
       "  </tbody>\n",
       "</table>\n",
       "</div>"
      ],
      "text/plain": [
       "Empty DataFrame\n",
       "Columns: []\n",
       "Index: []"
      ]
     },
     "execution_count": 25,
     "metadata": {},
     "output_type": "execute_result"
    }
   ],
   "source": [
    "df_ouput_alltime = pd.DataFrame(index = all_user, columns=[f'{i}_{j}'  for i in df_2020.item_tag.unique() for j in attrs])\n",
    "def make_output_matrix(x):\n",
    "    id = x.index.get_level_values(\"user_id\")[0]\n",
    "    x = x.droplevel((0))\n",
    "    df_temp = x.stack()\n",
    "    df_temp.index = [f\"{x}_{y}\" for x,y in df_temp.index]\n",
    "    df_temp = df_temp.to_frame(\"\").T\n",
    "    df_ouput_alltime.loc[id, df_temp.columns] = df_temp.values\n",
    "\n",
    "df_group_alltime.groupby(level = (0)).apply(make_output_matrix)"
   ]
  },
  {
   "cell_type": "code",
   "execution_count": 26,
   "metadata": {},
   "outputs": [],
   "source": [
    "df_ouput_alltime.fillna(0, inplace= True)\n",
    "df_ouput_alltime = df_ouput_alltime.abs()"
   ]
  },
  {
   "cell_type": "code",
   "execution_count": 27,
   "metadata": {},
   "outputs": [],
   "source": [
    "from sklearn.preprocessing import MinMaxScaler\n",
    "minmax_sc = MinMaxScaler()\n",
    "df_ouput_alltime_scaled = minmax_sc.fit_transform(df_ouput_alltime)"
   ]
  },
  {
   "cell_type": "code",
   "execution_count": 29,
   "metadata": {},
   "outputs": [
    {
     "ename": "AttributeError",
     "evalue": "'numpy.ndarray' object has no attribute 'to_csv'",
     "output_type": "error",
     "traceback": [
      "\u001b[1;31m---------------------------------------------------------------------------\u001b[0m",
      "\u001b[1;31mAttributeError\u001b[0m                            Traceback (most recent call last)",
      "\u001b[1;32m<ipython-input-29-5cbc0b53b48b>\u001b[0m in \u001b[0;36m<module>\u001b[1;34m\u001b[0m\n\u001b[1;32m----> 1\u001b[1;33m \u001b[0mdf_ouput_alltime_scaled\u001b[0m\u001b[1;33m.\u001b[0m\u001b[0mto_csv\u001b[0m\u001b[1;33m(\u001b[0m\u001b[1;34m\"input_matrix_2020_all_scaled.csv\"\u001b[0m\u001b[1;33m)\u001b[0m\u001b[1;33m\u001b[0m\u001b[1;33m\u001b[0m\u001b[0m\n\u001b[0m",
      "\u001b[1;31mAttributeError\u001b[0m: 'numpy.ndarray' object has no attribute 'to_csv'"
     ]
    }
   ],
   "source": [
    "df_ouput_alltime_scaled.to_csv(\"input_matrix_2020_all_scaled.csv\")"
   ]
  },
  {
   "cell_type": "code",
   "execution_count": 30,
   "metadata": {},
   "outputs": [],
   "source": [
    "np.savetxt(\"input_matrix_2020_all_scaled.csv\", df_ouput_alltime_scaled, delimiter=\",\")"
   ]
  },
  {
   "cell_type": "code",
   "execution_count": null,
   "metadata": {},
   "outputs": [],
   "source": []
  }
 ],
 "metadata": {
  "interpreter": {
   "hash": "bd884668a7b60596e1c112f7232a76675f1b15a9a320d72c98dc55c85f4a3d37"
  },
  "kernelspec": {
   "display_name": "Python 3",
   "language": "python",
   "name": "python3"
  },
  "language_info": {
   "codemirror_mode": {
    "name": "ipython",
    "version": 3
   },
   "file_extension": ".py",
   "mimetype": "text/x-python",
   "name": "python",
   "nbconvert_exporter": "python",
   "pygments_lexer": "ipython3",
   "version": "3.8.5"
  }
 },
 "nbformat": 4,
 "nbformat_minor": 2
}
