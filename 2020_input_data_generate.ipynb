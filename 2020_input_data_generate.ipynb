{
 "cells": [
  {
   "cell_type": "code",
   "execution_count": 1,
   "metadata": {},
   "outputs": [],
   "source": [
    "import pandas as pd\n",
    "import numpy as np\n",
    "import seaborn as sns"
   ]
  },
  {
   "cell_type": "code",
   "execution_count": 2,
   "metadata": {},
   "outputs": [],
   "source": [
    "attrs = [\"amount\", \"freq\", \"avg_interval\"]"
   ]
  },
  {
   "cell_type": "code",
   "execution_count": 3,
   "metadata": {},
   "outputs": [],
   "source": [
    "raw_data = pd.read_csv(\"2022AIGO_H_LAB測試資料_雲端行動科技.csv\")"
   ]
  },
  {
   "cell_type": "code",
   "execution_count": 4,
   "metadata": {},
   "outputs": [],
   "source": [
    "data_2020 = raw_data[raw_data[\"datetime\"].str.startswith(\"2020\")]"
   ]
  },
  {
   "cell_type": "code",
   "execution_count": 5,
   "metadata": {},
   "outputs": [],
   "source": [
    "all_user = (data_2020.user_id.unique())"
   ]
  },
  {
   "cell_type": "code",
   "execution_count": 6,
   "metadata": {},
   "outputs": [
    {
     "name": "stderr",
     "output_type": "stream",
     "text": [
      "c:\\Users\\kusod\\AppData\\Local\\Programs\\Python\\Python39\\lib\\site-packages\\pandas\\core\\indexing.py:1773: SettingWithCopyWarning: \n",
      "A value is trying to be set on a copy of a slice from a DataFrame.\n",
      "Try using .loc[row_indexer,col_indexer] = value instead\n",
      "\n",
      "See the caveats in the documentation: https://pandas.pydata.org/pandas-docs/stable/user_guide/indexing.html#returning-a-view-versus-a-copy\n",
      "  self._setitem_single_column(ilocs[0], value, pi)\n",
      "C:\\Users\\kusod\\AppData\\Local\\Temp/ipykernel_10552/874115418.py:2: SettingWithCopyWarning: \n",
      "A value is trying to be set on a copy of a slice from a DataFrame.\n",
      "Try using .loc[row_indexer,col_indexer] = value instead\n",
      "\n",
      "See the caveats in the documentation: https://pandas.pydata.org/pandas-docs/stable/user_guide/indexing.html#returning-a-view-versus-a-copy\n",
      "  data_2020[\"month\"] = data_2020[\"datetime\"].dt.month\n"
     ]
    }
   ],
   "source": [
    "data_2020.loc[:, \"datetime\"] = pd.to_datetime(data_2020[\"datetime\"], format=\"%Y-%m-%d\")\n",
    "data_2020[\"month\"] = data_2020[\"datetime\"].dt.month"
   ]
  },
  {
   "cell_type": "code",
   "execution_count": 7,
   "metadata": {},
   "outputs": [],
   "source": [
    "df_2020 = data_2020[data_2020[\"item_tag\"] != \"優惠活動/折扣/集點\"]\n",
    "df_2020 = df_2020[df_2020[\"item_tag\"] != \"無法分類\"]\n",
    "df_2020 = df_2020[df_2020[\"item_tag\"] != \"餐飲需求\"]"
   ]
  },
  {
   "cell_type": "code",
   "execution_count": 8,
   "metadata": {},
   "outputs": [],
   "source": [
    "df_2020_group = df_2020.groupby([\"month\", \"user_id\", ])"
   ]
  },
  {
   "cell_type": "code",
   "execution_count": 9,
   "metadata": {},
   "outputs": [],
   "source": [
    "df_agg = df_2020.groupby([\"month\", \"user_id\", \"item_tag\"])[[\"amount\", \"datetime\"]].agg(\n",
    "    amount = (\"amount\", \"sum\"),\n",
    "    freq = (\"amount\", \"count\"),\n",
    "    avg_interval = (\"datetime\", lambda x : x.sort_values().diff().sum().days / len(x))\n",
    ")"
   ]
  },
  {
   "cell_type": "code",
   "execution_count": 10,
   "metadata": {},
   "outputs": [
    {
     "data": {
      "text/html": [
       "<div>\n",
       "<style scoped>\n",
       "    .dataframe tbody tr th:only-of-type {\n",
       "        vertical-align: middle;\n",
       "    }\n",
       "\n",
       "    .dataframe tbody tr th {\n",
       "        vertical-align: top;\n",
       "    }\n",
       "\n",
       "    .dataframe thead th {\n",
       "        text-align: right;\n",
       "    }\n",
       "</style>\n",
       "<table border=\"1\" class=\"dataframe\">\n",
       "  <thead>\n",
       "    <tr style=\"text-align: right;\">\n",
       "      <th></th>\n",
       "    </tr>\n",
       "  </thead>\n",
       "  <tbody>\n",
       "  </tbody>\n",
       "</table>\n",
       "</div>"
      ],
      "text/plain": [
       "Empty DataFrame\n",
       "Columns: []\n",
       "Index: []"
      ]
     },
     "execution_count": 10,
     "metadata": {},
     "output_type": "execute_result"
    }
   ],
   "source": [
    "\n",
    "midx = pd.MultiIndex.from_product([range(1, 13), all_user])\n",
    "df_ouput = pd.DataFrame(index = midx, columns=[f'{i}_{j}'  for i in df_2020.item_tag.unique() for j in attrs])\n",
    "def make_output_matrix(x):\n",
    "    (m, id) = (x.index.get_level_values(\"month\")[0], x.index.get_level_values(\"user_id\")[0])\n",
    "    x = x.droplevel((0, 1))\n",
    "    df_temp = x.stack()\n",
    "    df_temp.index = [f\"{x}_{y}\" for x,y in df_temp.index]\n",
    "    df_temp = df_temp.to_frame(\"\").T\n",
    "    df_ouput.loc[(m, id), df_temp.columns] = df_temp.values\n",
    "\n",
    "df_agg.groupby(level = (0, 1)).apply(make_output_matrix)"
   ]
  },
  {
   "cell_type": "code",
   "execution_count": 11,
   "metadata": {},
   "outputs": [],
   "source": [
    "df_ouput.fillna(0, inplace=True)"
   ]
  },
  {
   "cell_type": "code",
   "execution_count": 13,
   "metadata": {},
   "outputs": [],
   "source": [
    "df_ouput.to_csv(\"input_matrix_2020.csv\")"
   ]
  }
 ],
 "metadata": {
  "interpreter": {
   "hash": "bd884668a7b60596e1c112f7232a76675f1b15a9a320d72c98dc55c85f4a3d37"
  },
  "kernelspec": {
   "display_name": "Python 3.9.7 64-bit",
   "language": "python",
   "name": "python3"
  },
  "language_info": {
   "codemirror_mode": {
    "name": "ipython",
    "version": 3
   },
   "file_extension": ".py",
   "mimetype": "text/x-python",
   "name": "python",
   "nbconvert_exporter": "python",
   "pygments_lexer": "ipython3",
   "version": "3.9.7"
  },
  "orig_nbformat": 4
 },
 "nbformat": 4,
 "nbformat_minor": 2
}
